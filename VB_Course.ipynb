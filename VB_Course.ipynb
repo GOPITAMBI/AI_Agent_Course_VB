{
  "nbformat": 4,
  "nbformat_minor": 0,
  "metadata": {
    "colab": {
      "provenance": [],
      "authorship_tag": "ABX9TyPLsssVQBkqmUimG0udavS9",
      "include_colab_link": true
    },
    "kernelspec": {
      "name": "python3",
      "display_name": "Python 3"
    },
    "language_info": {
      "name": "python"
    }
  },
  "cells": [
    {
      "cell_type": "markdown",
      "metadata": {
        "id": "view-in-github",
        "colab_type": "text"
      },
      "source": [
        "<a href=\"https://colab.research.google.com/github/GOPITAMBI/AI_Agent_Course_VB/blob/main/VB_Course.ipynb\" target=\"_parent\"><img src=\"https://colab.research.google.com/assets/colab-badge.svg\" alt=\"Open In Colab\"/></a>"
      ]
    },
    {
      "cell_type": "markdown",
      "source": [
        "# Using Gemini API Using Gemini SDK"
      ],
      "metadata": {
        "id": "kBq3zD9VNz1A"
      }
    },
    {
      "cell_type": "code",
      "source": [
        "!pip install -q -U google-genai"
      ],
      "metadata": {
        "colab": {
          "base_uri": "https://localhost:8080/"
        },
        "id": "Qiei-lN3N7eo",
        "outputId": "3546b23a-82c1-4bd7-cf6b-0c51dad8d0b6"
      },
      "execution_count": null,
      "outputs": [
        {
          "output_type": "stream",
          "name": "stdout",
          "text": [
            "\u001b[2K     \u001b[90m━━━━━━━━━━━━━━━━━━━━━━━━━━━━━━━━━━━━━━━━\u001b[0m \u001b[32m40.5/40.5 kB\u001b[0m \u001b[31m1.2 MB/s\u001b[0m eta \u001b[36m0:00:00\u001b[0m\n",
            "\u001b[2K   \u001b[90m━━━━━━━━━━━━━━━━━━━━━━━━━━━━━━━━━━━━━━━━\u001b[0m \u001b[32m226.1/226.1 kB\u001b[0m \u001b[31m3.4 MB/s\u001b[0m eta \u001b[36m0:00:00\u001b[0m\n",
            "\u001b[?25h"
          ]
        }
      ]
    },
    {
      "cell_type": "code",
      "source": [
        "from google.colab import userdata\n",
        "API_KEY = userdata.get('GOOGLE_API_KEY')"
      ],
      "metadata": {
        "id": "uQe47p8COAwD"
      },
      "execution_count": null,
      "outputs": []
    },
    {
      "cell_type": "code",
      "source": [
        "from google import genai\n",
        "\n",
        "client = genai.Client(api_key=API_KEY)\n",
        "response = client.models.generate_content(\n",
        "    model=\"gemini-2.0-flash\", contents=\"Explain about ICRISAT?\"\n",
        ")\n",
        "print(response.text)"
      ],
      "metadata": {
        "colab": {
          "base_uri": "https://localhost:8080/"
        },
        "id": "JJz6JpNnOAzp",
        "outputId": "d95abc1e-91d1-4aed-94da-649fa4b15726"
      },
      "execution_count": null,
      "outputs": [
        {
          "output_type": "stream",
          "name": "stdout",
          "text": [
            "ICRISAT stands for the **International Crops Research Institute for the Semi-Arid Tropics**. It's a non-profit, international agricultural research organization that conducts agricultural research for development in Asia and sub-Saharan Africa.\n",
            "\n",
            "Here's a breakdown of what you need to know about ICRISAT:\n",
            "\n",
            "**Purpose and Mission:**\n",
            "\n",
            "*   **Mission:** To reduce poverty, hunger, malnutrition, and environmental degradation in the dryland tropics.\n",
            "*   **Focus:** To improve the livelihoods of smallholder farmers, particularly in the semi-arid tropics (SAT). These regions are characterized by low and erratic rainfall, poor soils, and high temperatures, making them vulnerable to climate change and food insecurity.\n",
            "\n",
            "**What They Do:**\n",
            "\n",
            "*   **Crop Improvement:** Develop improved varieties of key crops that are:\n",
            "    *   High-yielding\n",
            "    *   Drought-resistant\n",
            "    *   Pest and disease resistant\n",
            "    *   Nutritious\n",
            "*   **Natural Resource Management:** Promote sustainable farming practices that:\n",
            "    *   Improve soil health\n",
            "    *   Conserve water\n",
            "    *   Enhance biodiversity\n",
            "    *   Combat desertification\n",
            "*   **Socioeconomic Research:** Conduct research on agricultural markets, value chains, and policies to:\n",
            "    *   Improve access to markets for smallholder farmers\n",
            "    *   Promote sustainable agricultural practices\n",
            "    *   Reduce poverty and inequality\n",
            "*   **Capacity Building:** Train scientists, extension workers, and farmers in:\n",
            "    *   Modern agricultural technologies\n",
            "    *   Sustainable farming practices\n",
            "    *   Research methods\n",
            "*   **Partnerships:** Work in collaboration with:\n",
            "    *   National agricultural research systems (NARS) in developing countries\n",
            "    *   Advanced research institutions in developed countries\n",
            "    *   Non-governmental organizations (NGOs)\n",
            "    *   Private sector companies\n",
            "    *   International organizations\n",
            "\n",
            "**Key Crops of Focus:**\n",
            "\n",
            "ICRISAT focuses its research on a number of key crops that are important for food security and livelihoods in the SAT, including:\n",
            "\n",
            "*   **Sorghum:** A staple grain in many parts of Africa and Asia.\n",
            "*   **Pearl Millet:** A highly drought-tolerant grain, especially important in arid regions.\n",
            "*   **Chickpea:** A protein-rich pulse crop.\n",
            "*   **Pigeonpea:** Another important pulse crop, often grown in intercropping systems.\n",
            "*   **Groundnut (Peanut):** An important oilseed and food crop.\n",
            "\n",
            "**Where They Operate:**\n",
            "\n",
            "*   **Headquarters:** Patancheru, Telangana, India.\n",
            "*   **Regional and Country Offices:** Throughout Asia and sub-Saharan Africa, including:\n",
            "    *   Kenya\n",
            "    *   Mali\n",
            "    *   Niger\n",
            "    *   Nigeria\n",
            "    *   Zimbabwe\n",
            "    *   Ethiopia\n",
            "    *   Mozambique\n",
            "\n",
            "**Impact:**\n",
            "\n",
            "ICRISAT's research has had a significant impact on improving the livelihoods of millions of people in the dryland tropics. Some of their key achievements include:\n",
            "\n",
            "*   Developing and releasing hundreds of improved crop varieties.\n",
            "*   Promoting sustainable farming practices that have improved soil health and water conservation.\n",
            "*   Training thousands of scientists, extension workers, and farmers.\n",
            "*   Contributing to increased agricultural productivity and food security in the SAT.\n",
            "\n",
            "**Why is ICRISAT Important?**\n",
            "\n",
            "*   **Food Security:** The dryland tropics are home to some of the world's poorest and most food-insecure people. ICRISAT's work is critical for improving food production and nutrition in these regions.\n",
            "*   **Climate Change Adaptation:** The SAT regions are particularly vulnerable to the impacts of climate change. ICRISAT's research on drought-resistant crops and sustainable farming practices is essential for helping farmers adapt to changing climate conditions.\n",
            "*   **Poverty Reduction:** By improving agricultural productivity and incomes, ICRISAT's work contributes to poverty reduction and economic development in the dryland tropics.\n",
            "*   **Environmental Sustainability:** ICRISAT promotes sustainable farming practices that protect the environment and conserve natural resources.\n",
            "\n",
            "In summary, ICRISAT plays a vital role in improving the livelihoods of smallholder farmers and promoting sustainable agricultural development in the semi-arid tropics. Its research on crop improvement, natural resource management, and socioeconomic issues is essential for addressing the challenges of food security, climate change, and poverty in these vulnerable regions.\n",
            "\n"
          ]
        }
      ]
    },
    {
      "cell_type": "code",
      "source": [],
      "metadata": {
        "id": "g7-h1J2KOci6"
      },
      "execution_count": null,
      "outputs": []
    }
  ]
}